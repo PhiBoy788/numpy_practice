{
 "cells": [
  {
   "cell_type": "code",
   "execution_count": 1,
   "id": "6a6f30d3",
   "metadata": {},
   "outputs": [],
   "source": [
    "import numpy as np\n",
    "import matplotlib.pyplot as plt"
   ]
  },
  {
   "cell_type": "code",
   "execution_count": 2,
   "id": "4fc0929b",
   "metadata": {},
   "outputs": [
    {
     "name": "stdout",
     "output_type": "stream",
     "text": [
      "[4 5 2 6 8]\n"
     ]
    }
   ],
   "source": [
    "a = np.array([4, 5, 2, 6, 8])\n",
    "\n",
    "print(a)"
   ]
  },
  {
   "cell_type": "code",
   "execution_count": 3,
   "id": "ec47c144",
   "metadata": {},
   "outputs": [
    {
     "name": "stdout",
     "output_type": "stream",
     "text": [
      "[1. 3. 2. 5.]\n"
     ]
    }
   ],
   "source": [
    "a = np.array([1, 3, 2, 5], dtype = 'float32')\n",
    "\n",
    "print(a)"
   ]
  },
  {
   "cell_type": "code",
   "execution_count": 4,
   "id": "10fa73f1",
   "metadata": {},
   "outputs": [
    {
     "name": "stdout",
     "output_type": "stream",
     "text": [
      "[list([1, 2, 3]) list([4, 4, 5]) list([6, 2])]\n"
     ]
    },
    {
     "name": "stderr",
     "output_type": "stream",
     "text": [
      "C:\\Users\\Henry\\AppData\\Local\\Temp\\ipykernel_10348\\1424363652.py:3: VisibleDeprecationWarning: Creating an ndarray from ragged nested sequences (which is a list-or-tuple of lists-or-tuples-or ndarrays with different lengths or shapes) is deprecated. If you meant to do this, you must specify 'dtype=object' when creating the ndarray.\n",
      "  b = np.array(list_of_lists)\n"
     ]
    }
   ],
   "source": [
    "list_of_lists = [[1, 2 , 3], [4, 4, 5], [6, 2]]\n",
    "\n",
    "b = np.array(list_of_lists)\n",
    "\n",
    "print(b)"
   ]
  },
  {
   "cell_type": "code",
   "execution_count": 5,
   "id": "d73509be",
   "metadata": {},
   "outputs": [
    {
     "name": "stdout",
     "output_type": "stream",
     "text": [
      "[[ 1  2  3]\n",
      " [ 4  4  5]\n",
      " [ 6  2 11]]\n"
     ]
    }
   ],
   "source": [
    "list_of_lists = [[1, 2 , 3], [4, 4, 5], [6, 2, 11]]\n",
    "\n",
    "b = np.array(list_of_lists)\n",
    "\n",
    "print(b)"
   ]
  },
  {
   "cell_type": "code",
   "execution_count": 6,
   "id": "0efb12f8",
   "metadata": {},
   "outputs": [
    {
     "name": "stdout",
     "output_type": "stream",
     "text": [
      "[0 0 0 0 0 0 0 0 0 0]\n"
     ]
    }
   ],
   "source": [
    "b = np.zeros(10, dtype = int)\n",
    "\n",
    "print(b)"
   ]
  },
  {
   "cell_type": "code",
   "execution_count": 7,
   "id": "d0fd7ca4",
   "metadata": {},
   "outputs": [
    {
     "name": "stdout",
     "output_type": "stream",
     "text": [
      "[[1. 1. 1. 1. 1. 1.]\n",
      " [1. 1. 1. 1. 1. 1.]\n",
      " [1. 1. 1. 1. 1. 1.]\n",
      " [1. 1. 1. 1. 1. 1.]]\n"
     ]
    }
   ],
   "source": [
    "b = np.ones((4, 6), dtype = float)\n",
    "\n",
    "print(b)"
   ]
  },
  {
   "cell_type": "code",
   "execution_count": 8,
   "id": "5e263fb5",
   "metadata": {},
   "outputs": [
    {
     "name": "stdout",
     "output_type": "stream",
     "text": [
      "[[42 42 42]\n",
      " [42 42 42]\n",
      " [42 42 42]]\n"
     ]
    }
   ],
   "source": [
    "b = np.full ((3, 3), 42)\n",
    "\n",
    "print(b)"
   ]
  },
  {
   "cell_type": "code",
   "execution_count": 9,
   "id": "bf7b29a9",
   "metadata": {},
   "outputs": [
    {
     "name": "stdout",
     "output_type": "stream",
     "text": [
      "[ 1  4  7 10 13 16 19 22 25 28]\n"
     ]
    }
   ],
   "source": [
    "b = np.arange(1, 30, 3)\n",
    "\n",
    "print(b)"
   ]
  },
  {
   "cell_type": "code",
   "execution_count": 10,
   "id": "cbdd604b",
   "metadata": {},
   "outputs": [
    {
     "name": "stdout",
     "output_type": "stream",
     "text": [
      "[0.         0.05263158 0.10526316 0.15789474 0.21052632 0.26315789\n",
      " 0.31578947 0.36842105 0.42105263 0.47368421 0.52631579 0.57894737\n",
      " 0.63157895 0.68421053 0.73684211 0.78947368 0.84210526 0.89473684\n",
      " 0.94736842 1.        ]\n"
     ]
    }
   ],
   "source": [
    "b = np.linspace(0, 1, 20)\n",
    "\n",
    "print(b)"
   ]
  },
  {
   "cell_type": "code",
   "execution_count": 11,
   "id": "e65cd247",
   "metadata": {},
   "outputs": [
    {
     "name": "stdout",
     "output_type": "stream",
     "text": [
      "[[-0.78752955  0.82872666  1.14938306 -1.0886442 ]\n",
      " [-0.16742574 -1.53725207 -0.83607603 -0.25468797]\n",
      " [ 0.07639126  0.27534286 -0.41779882  1.27310032]\n",
      " [-1.00012631  0.6593258   0.12837732  0.64731519]]\n"
     ]
    }
   ],
   "source": [
    "b = np.random.normal(0, 1, (4,4))\n",
    "\n",
    "print(b)"
   ]
  },
  {
   "cell_type": "code",
   "execution_count": 12,
   "id": "3295df04",
   "metadata": {},
   "outputs": [
    {
     "name": "stdout",
     "output_type": "stream",
     "text": [
      "[[1. 0. 0. 0. 0.]\n",
      " [0. 1. 0. 0. 0.]\n",
      " [0. 0. 1. 0. 0.]\n",
      " [0. 0. 0. 1. 0.]\n",
      " [0. 0. 0. 0. 1.]]\n"
     ]
    }
   ],
   "source": [
    "b = np.eye(5)\n",
    "print(b)"
   ]
  },
  {
   "cell_type": "code",
   "execution_count": 13,
   "id": "69350b9d",
   "metadata": {},
   "outputs": [
    {
     "name": "stdout",
     "output_type": "stream",
     "text": [
      "[[ 6 18 15 17]\n",
      " [ 9  8  3 10]\n",
      " [ 2 12 14 18]]\n",
      "[[[13  3  0 19 10 10]\n",
      "  [15 17 13  7 11 10]\n",
      "  [ 5 17  5 15 11 11]\n",
      "  [12 17 15 10  8  7]]\n",
      "\n",
      " [[ 8  6  7  4  2  7]\n",
      "  [ 7  0  5 14 13 14]\n",
      "  [17  8  0  3 13  3]\n",
      "  [ 7 16 19 10 10  7]]]\n",
      "b2 dims  2\n",
      "b3 shape  (2, 4, 6)\n",
      "b2 size  12\n",
      "data type of b3  int32\n"
     ]
    }
   ],
   "source": [
    "b1 = np.random.randint(20, size = 6)\n",
    "b2 = np.random.randint(20, size = (3,4))\n",
    "b3 = np.random.randint(20, size = (2,4,6))\n",
    "\n",
    "print(b2)\n",
    "print(b3)\n",
    "print(\"b2 dims \", b2.ndim)\n",
    "print(\"b3 shape \", b3.shape)\n",
    "print(\"b2 size \", b2.size)\n",
    "print(\"data type of b3 \", b3.dtype)\n"
   ]
  },
  {
   "cell_type": "code",
   "execution_count": 14,
   "id": "71621575",
   "metadata": {},
   "outputs": [
    {
     "name": "stdout",
     "output_type": "stream",
     "text": [
      "[1. 3. 2. 5.]\n",
      "first  1.0\n",
      "third  2.0\n",
      "last  5.0\n",
      "before last  2.0\n"
     ]
    }
   ],
   "source": [
    "a = np.array([1, 3, 2, 5], dtype = \"float32\")\n",
    "print(a)\n",
    "print(\"first \", a[0])\n",
    "print(\"third \", a[2])\n",
    "print(\"last \", a[-1])\n",
    "print(\"before last \", a[-2])"
   ]
  },
  {
   "cell_type": "code",
   "execution_count": 15,
   "id": "fccccb20",
   "metadata": {
    "scrolled": true
   },
   "outputs": [
    {
     "name": "stdout",
     "output_type": "stream",
     "text": [
      "[[ 1  2  3  4]\n",
      " [ 5  6  7  8]\n",
      " [ 9 10 11 12]]\n",
      "first  1\n",
      "last  12\n"
     ]
    }
   ],
   "source": [
    "a = np.array ([[1, 2, 3, 4], [5, 6, 7, 8], [9, 10, 11, 12]])\n",
    "\n",
    "print(a)\n",
    "print(\"first \", a[0,0])\n",
    "print(\"last \", a[2,-1])"
   ]
  },
  {
   "cell_type": "code",
   "execution_count": 16,
   "id": "672934eb",
   "metadata": {},
   "outputs": [
    {
     "name": "stdout",
     "output_type": "stream",
     "text": [
      "[ 0  1  2  3  4  5  6  7  8  9 10 11 12 13 14]\n",
      "first 4 elements  [0 1 2 3]\n",
      "all after 3  [ 3  4  5  6  7  8  9 10 11 12 13 14]\n",
      "even indeces  [ 0  2  4  6  8 10 12 14]\n",
      "uneven indeces  [ 1  3  5  7  9 11 13]\n",
      "reverse  [14 13 12 11 10  9  8  7  6  5  4  3  2  1  0]\n"
     ]
    }
   ],
   "source": [
    "x = np.arange(15)\n",
    "\n",
    "print(x)\n",
    "print(\"first 4 elements \", x[:4])\n",
    "print(\"all after 3 \", x[3:])\n",
    "print(\"even indeces \", x[::2])\n",
    "print(\"uneven indeces \", x[1::2])\n",
    "print(\"reverse \", x[::-1])"
   ]
  },
  {
   "cell_type": "code",
   "execution_count": 17,
   "id": "b48a4495",
   "metadata": {
    "scrolled": true
   },
   "outputs": [
    {
     "name": "stdout",
     "output_type": "stream",
     "text": [
      "[[ 1  2  3  4]\n",
      " [ 5  6  7  8]\n",
      " [ 9 10 11 12]]\n",
      "[[1 2]\n",
      " [5 6]]\n"
     ]
    }
   ],
   "source": [
    "a = np.array ([[1, 2, 3, 4], [5, 6, 7, 8], [9, 10, 11, 12]])\n",
    "\n",
    "print(a)\n",
    "print(a[:2,:2])"
   ]
  },
  {
   "cell_type": "code",
   "execution_count": 18,
   "id": "5caa944e",
   "metadata": {},
   "outputs": [
    {
     "name": "stdout",
     "output_type": "stream",
     "text": [
      "[[ 1  2  3  4]\n",
      " [ 5  6  7  8]\n",
      " [ 9 10 11 12]]\n",
      "a[:-1, :-1]\n",
      "[[1 2 3]\n",
      " [5 6 7]]\n"
     ]
    }
   ],
   "source": [
    "a = np.array ([[1, 2, 3, 4], [5, 6, 7, 8], [9, 10, 11, 12]])\n",
    "\n",
    "print(a)\n",
    "print(\"a[:-1, :-1]\")\n",
    "print(a[:-1,:-1])"
   ]
  },
  {
   "cell_type": "code",
   "execution_count": 19,
   "id": "89b71473",
   "metadata": {},
   "outputs": [
    {
     "name": "stdout",
     "output_type": "stream",
     "text": [
      "[[ 1  2  3  4]\n",
      " [ 5  6  7  8]\n",
      " [ 9 10 11 12]]\n",
      "a[:-1,:-2]\n",
      "[[1 2]\n",
      " [5 6]]\n"
     ]
    }
   ],
   "source": [
    "a = np.array ([[1, 2, 3, 4], [5, 6, 7, 8], [9, 10, 11, 12]])\n",
    "\n",
    "print(a)\n",
    "print(\"a[:-1,:-2]\")\n",
    "print(a[:-1,:-2])"
   ]
  },
  {
   "cell_type": "code",
   "execution_count": 20,
   "id": "570c5b3a",
   "metadata": {},
   "outputs": [
    {
     "name": "stdout",
     "output_type": "stream",
     "text": [
      "[ 0  1  2  3  4  5  6  7  8  9 10 11 12 13 14]\n",
      "shift right  [ 0  1  2  3  4  5  6  7  8  9 10 11 12 13]\n",
      "shift left  [ 1  2  3  4  5  6  7  8  9 10 11 12 13 14]\n"
     ]
    }
   ],
   "source": [
    "x = np.arange(15)\n",
    "print(x)\n",
    "print(\"shift right \", x[:-1])\n",
    "print(\"shift left \", x[1:])"
   ]
  },
  {
   "cell_type": "code",
   "execution_count": 21,
   "id": "064b1ef6",
   "metadata": {
    "scrolled": true
   },
   "outputs": [
    {
     "name": "stdout",
     "output_type": "stream",
     "text": [
      "[[ 1  2  3  4]\n",
      " [ 5  6  7  8]\n",
      " [ 9 10 11 12]]\n",
      "column 1 \n",
      "[ 2  6 10]\n"
     ]
    }
   ],
   "source": [
    "a = np.array ([[1, 2, 3, 4], [5, 6, 7, 8], [9, 10, 11, 12]])\n",
    "\n",
    "print(a)\n",
    "print(\"column 1 \")\n",
    "print(a[:,1])"
   ]
  },
  {
   "cell_type": "code",
   "execution_count": 22,
   "id": "2f452231",
   "metadata": {},
   "outputs": [
    {
     "name": "stdout",
     "output_type": "stream",
     "text": [
      "[[ 1  2  3  4]\n",
      " [ 5  6  7  8]\n",
      " [ 9 10 11 12]]\n",
      "row 1 \n",
      "[5 6 7 8]\n"
     ]
    }
   ],
   "source": [
    "a = np.array ([[1, 2, 3, 4], [5, 6, 7, 8], [9, 10, 11, 12]])\n",
    "\n",
    "print(a)\n",
    "print(\"row 1 \")\n",
    "print(a[1,:])"
   ]
  },
  {
   "cell_type": "code",
   "execution_count": 23,
   "id": "224260a2",
   "metadata": {},
   "outputs": [
    {
     "name": "stdout",
     "output_type": "stream",
     "text": [
      "[[ 1  2  3  4]\n",
      " [ 5  6  7  8]\n",
      " [ 9 10 11 12]]\n",
      "[[1 2]\n",
      " [5 6]]\n",
      "[[42  2  3  4]\n",
      " [ 5  6  7  8]\n",
      " [ 9 10 11 12]]\n",
      "[[42  2  3  4]\n",
      " [ 5  6  7  8]\n",
      " [ 9 10 11 12]]\n"
     ]
    }
   ],
   "source": [
    "a = np.array ([[1, 2, 3, 4], [5, 6, 7, 8], [9, 10, 11, 12]])\n",
    "\n",
    "new_a = a[:2, :2]\n",
    "print(a)\n",
    "print(new_a)\n",
    "new_a[0,0] = 42\n",
    "print(a)\n",
    "new_a2 = a[:2, :2].copy()\n",
    "new_a2[0,0] = 17\n",
    "print(a)\n"
   ]
  },
  {
   "cell_type": "code",
   "execution_count": 24,
   "id": "d38f0524",
   "metadata": {},
   "outputs": [
    {
     "name": "stdout",
     "output_type": "stream",
     "text": [
      "[1 2 3 4 5 6 7 8 9]\n",
      "[[1 2 3]\n",
      " [4 5 6]\n",
      " [7 8 9]]\n"
     ]
    }
   ],
   "source": [
    "a = np.arange(1,10)\n",
    "\n",
    "b = a.reshape(3,3)\n",
    "\n",
    "print(a)\n",
    "print(b)"
   ]
  },
  {
   "cell_type": "code",
   "execution_count": 25,
   "id": "c958e79e",
   "metadata": {
    "scrolled": true
   },
   "outputs": [
    {
     "name": "stdout",
     "output_type": "stream",
     "text": [
      "reshape as row vector with reshape  [[1 2 3 4 5]]\n",
      "reshape as row vector with newaxis  [[5 5 5 5 5]]\n",
      "reshape as column vector with newaxis \n",
      "[[5]\n",
      " [5]\n",
      " [5]\n",
      " [5]\n",
      " [5]]\n",
      " reshape matrix m[:, npnewaxis, np.newaxis, :] with newaxis \n",
      "[[[[ 1  2  3  4]]]\n",
      "\n",
      "\n",
      " [[[ 5  6  7  8]]]\n",
      "\n",
      "\n",
      " [[[ 9 10 11 12]]]]\n"
     ]
    }
   ],
   "source": [
    "v = np.array([1, 2, 3, 4, 5,])\n",
    "\n",
    "v1 = np.array([5, 5, 5, 5, 5])\n",
    "\n",
    "m = np.array([[1, 2, 3, 4], [5, 6, 7, 8], [9, 10, 11, 12]])\n",
    "\n",
    "print(\"reshape as row vector with reshape \", v.reshape( (1, 5)))\n",
    "print(\"reshape as row vector with newaxis \", v1[np.newaxis, :])\n",
    "print(\"reshape as column vector with newaxis \")\n",
    "print(v1[:, np.newaxis])\n",
    "print(\" reshape matrix m[:, npnewaxis, np.newaxis, :] with newaxis \")\n",
    "print(m[:, np.newaxis, np.newaxis, :])"
   ]
  },
  {
   "cell_type": "code",
   "execution_count": 26,
   "id": "710ab24e",
   "metadata": {},
   "outputs": [
    {
     "name": "stdout",
     "output_type": "stream",
     "text": [
      "[1 2 3 4]\n",
      "[5 6 7 8]\n",
      "[ 9 10 11]\n",
      "concatenate a with b  [1 2 3 4 5 6 7 8]\n",
      "concatenate a with b with c  [ 1  2  3  4  5  6  7  8  9 10 11]\n"
     ]
    }
   ],
   "source": [
    "a = np.array([1, 2, 3, 4])\n",
    "b = np.array([5, 6, 7, 8])\n",
    "c = np.array([9, 10, 11])\n",
    "ab = np.concatenate([a, b])\n",
    "abc = np.concatenate([a, b, c])\n",
    "\n",
    "print(a)\n",
    "print(b)\n",
    "print(c)\n",
    "print(\"concatenate a with b \", ab)\n",
    "print(\"concatenate a with b with c \", abc)\n"
   ]
  },
  {
   "cell_type": "code",
   "execution_count": 27,
   "id": "5de7757a",
   "metadata": {},
   "outputs": [
    {
     "name": "stdout",
     "output_type": "stream",
     "text": [
      "[[1 2 3]\n",
      " [4 5 6]\n",
      " [7 8 9]]\n",
      "[[10 11 12]\n",
      " [13 14 14]\n",
      " [16 17 18]]\n",
      "m1, m2 concat axis 0\n",
      "[[ 1  2  3]\n",
      " [ 4  5  6]\n",
      " [ 7  8  9]\n",
      " [10 11 12]\n",
      " [13 14 14]\n",
      " [16 17 18]]\n"
     ]
    }
   ],
   "source": [
    "m1 = np.array([[1, 2, 3], [4, 5, 6], [7, 8, 9]])\n",
    "m2 = np.array([[10, 11, 12], [13, 14, 14], [16, 17, 18]])\n",
    "\n",
    "print(m1)\n",
    "print(m2)\n",
    "m1_m2_concat = np.concatenate([m1, m2], axis=0)\n",
    "print(\"m1, m2 concat axis 0\")\n",
    "print(m1_m2_concat)"
   ]
  },
  {
   "cell_type": "code",
   "execution_count": 28,
   "id": "1637e13b",
   "metadata": {},
   "outputs": [
    {
     "name": "stdout",
     "output_type": "stream",
     "text": [
      "[[1 2 3]\n",
      " [4 5 6]\n",
      " [7 8 9]]\n",
      "[[10 11 12]\n",
      " [13 14 14]\n",
      " [16 17 18]]\n",
      " vstack \n",
      "[[ 1  2  3]\n",
      " [ 4  5  6]\n",
      " [ 7  8  9]\n",
      " [10 11 12]\n",
      " [13 14 14]\n",
      " [16 17 18]]\n",
      " hstack \n",
      "[[ 1  2  3 10 11 12]\n",
      " [ 4  5  6 13 14 14]\n",
      " [ 7  8  9 16 17 18]]\n"
     ]
    }
   ],
   "source": [
    "m1 = np.array([[1, 2, 3], [4, 5, 6], [7, 8, 9]])\n",
    "m2 = np.array([[10, 11, 12], [13, 14, 14], [16, 17, 18]])\n",
    "\n",
    "print(m1)\n",
    "print(m2)\n",
    "m1_m2_concat = np.vstack([m1, m2])\n",
    "print(\" vstack \")\n",
    "print(m1_m2_concat)\n",
    "\n",
    "m1_m2_concat2 = np.hstack([m1, m2])\n",
    "print(\" hstack \")\n",
    "print(m1_m2_concat2)"
   ]
  },
  {
   "cell_type": "code",
   "execution_count": 29,
   "id": "768932fe",
   "metadata": {},
   "outputs": [
    {
     "name": "stdout",
     "output_type": "stream",
     "text": [
      "[1 2 3 4]\n",
      "x + 10  [11 12 13 14]\n",
      "x - 10  [-9 -8 -7 -6]\n",
      "x * 10  [10 20 30 40]\n",
      "x / 2  [0.5 1.  1.5 2. ]\n",
      "  -x [-1 -2 -3 -4]\n",
      " x ** 3  [ 1  8 27 64]\n",
      "4^x [  4  16  64 256]\n",
      "  np.log(x) [0.         0.69314718 1.09861229 1.38629436]\n",
      " np.log2(x) [0.        1.        1.5849625 2.       ]\n",
      "np.log10(x) [0.         0.30103    0.47712125 0.60205999]\n"
     ]
    }
   ],
   "source": [
    "x = np.array([1, 2, 3, 4])\n",
    "\n",
    "print(x)\n",
    "print(\"x + 10 \", x + 10)\n",
    "print(\"x - 10 \", x - 10)\n",
    "print(\"x * 10 \", x * 10)\n",
    "print(\"x / 2 \", x / 2)\n",
    "print(\"  -x\", -x)\n",
    "print(\" x ** 3 \", x ** 3)\n",
    "print(\"4^x\", np.power(4, x))\n",
    "print(\"  np.log(x)\", np.log(x))\n",
    "print(\" np.log2(x)\", np.log2(x))\n",
    "print(\"np.log10(x)\", np.log10(x))\n"
   ]
  },
  {
   "cell_type": "code",
   "execution_count": 30,
   "id": "3921fd4f",
   "metadata": {},
   "outputs": [
    {
     "name": "stdout",
     "output_type": "stream",
     "text": [
      "[0.         0.44444444 0.88888889 1.33333333 1.77777778 2.22222222\n",
      " 2.66666667 3.11111111 3.55555556 4.        ]\n",
      "np.sin\n",
      "[ 0.          0.42995636  0.77637192  0.9719379   0.9786557   0.79522006\n",
      "  0.45727263  0.03047682 -0.40224065 -0.7568025 ]\n"
     ]
    }
   ],
   "source": [
    "angles = np.linspace(0, 4, 10)\n",
    "print(angles)\n",
    "print(\"np.sin\")\n",
    "print(np.sin(angles))"
   ]
  },
  {
   "cell_type": "code",
   "execution_count": 31,
   "id": "2fe1020d",
   "metadata": {},
   "outputs": [
    {
     "name": "stdout",
     "output_type": "stream",
     "text": [
      "[1 2 3 4 5]\n",
      "  np.add.reduce(x)  =  15\n",
      "  np.multiply.reduce(x)  =  120\n",
      "  np.sum(x)  =  15\n",
      "  np.min(x)  =  1\n",
      "  np.max(x)  =  5\n"
     ]
    }
   ],
   "source": [
    "x = np.array([1, 2, 3, 4, 5])\n",
    "print(x)\n",
    "print(\"  np.add.reduce(x)  = \", np.add.reduce(x))\n",
    "print(\"  np.multiply.reduce(x)  = \", np.multiply.reduce(x))\n",
    "print(\"  np.sum(x)  = \", np.sum(x))\n",
    "print(\"  np.min(x)  = \", np.min(x))\n",
    "print(\"  np.max(x)  = \", np.max(x))\n"
   ]
  },
  {
   "cell_type": "code",
   "execution_count": 32,
   "id": "53f06ce9",
   "metadata": {},
   "outputs": [
    {
     "name": "stdout",
     "output_type": "stream",
     "text": [
      "[[ 1  2  3  4]\n",
      " [ 5  6  7  8]\n",
      " [ 9 10 11 12]\n",
      " [13 14 15 16]]\n",
      "  m.sum()  =  136\n",
      "  np.min(m, axis = 0) =  [1 2 3 4]\n",
      "  np.min(m, axis = 1) =  [ 1  5  9 13]\n",
      "  np.min(m, axis = -1) (-1 is the last item) =  [ 1  5  9 13]\n"
     ]
    }
   ],
   "source": [
    "m = np.array([[1, 2, 3, 4], [5, 6, 7, 8], [9, 10, 11, 12], [13, 14, 15, 16]])\n",
    "\n",
    "print(m)\n",
    "print(\"  m.sum()  = \", m.sum())\n",
    "print(\"  np.min(m, axis = 0) = \", np.min(m, axis = 0))\n",
    "print(\"  np.min(m, axis = 1) = \", np.min(m, axis = 1))\n",
    "print(\"  np.min(m, axis = -1) (-1 is the last item) = \", np.min(m, axis = -1) )\n"
   ]
  },
  {
   "cell_type": "code",
   "execution_count": 33,
   "id": "4140db54",
   "metadata": {},
   "outputs": [
    {
     "name": "stdout",
     "output_type": "stream",
     "text": [
      " m \n",
      "[[1. 1. 1.]\n",
      " [1. 1. 1.]\n",
      " [1. 1. 1.]]\n",
      " a \n",
      "[0 1 2]\n",
      " m + a\n",
      "[[1. 2. 3.]\n",
      " [1. 2. 3.]\n",
      " [1. 2. 3.]]\n",
      "a[:, np.newaxis]\n",
      "[[0]\n",
      " [1]\n",
      " [2]]\n",
      "m + a \n",
      "[[1. 1. 1.]\n",
      " [2. 2. 2.]\n",
      " [3. 3. 3.]]\n"
     ]
    }
   ],
   "source": [
    "a = np.array([0, 1, 2])\n",
    "m = np.ones((3,3))\n",
    "ma = m + a\n",
    "print(\" m \")\n",
    "print(m)\n",
    "print(\" a \")\n",
    "print(a)\n",
    "print(\" m + a\")\n",
    "print(ma)\n",
    "a = a[:, np.newaxis]\n",
    "print(\"a[:, np.newaxis]\")\n",
    "print(a)\n",
    "print(\"m + a \")\n",
    "ma = m + a\n",
    "print(ma)"
   ]
  },
  {
   "cell_type": "code",
   "execution_count": 34,
   "id": "2a60d347",
   "metadata": {
    "scrolled": true
   },
   "outputs": [
    {
     "name": "stdout",
     "output_type": "stream",
     "text": [
      "[1 1 1]\n",
      "[[0]\n",
      " [1]\n",
      " [2]]\n",
      "v1 + v2\n",
      "[[1 1 1]\n",
      " [2 2 2]\n",
      " [3 3 3]]\n",
      "v1 * v2\n",
      "[[0 0 0]\n",
      " [1 1 1]\n",
      " [2 2 2]]\n"
     ]
    }
   ],
   "source": [
    "v1 = np.array([1, 1, 1])\n",
    "v2 = np.array([0, 1, 2])[:, np.newaxis]\n",
    "\n",
    "print(v1)\n",
    "print(v2)\n",
    "\n",
    "vvplus = v1 + v2\n",
    "v1v2 = v1 * v2\n",
    "\n",
    "print(\"v1 + v2\")\n",
    "print(v1 + v2)\n",
    "print(\"v1 * v2\")\n",
    "print(v1*v2)\n",
    "\n"
   ]
  },
  {
   "cell_type": "code",
   "execution_count": 35,
   "id": "81cadb2e",
   "metadata": {},
   "outputs": [
    {
     "name": "stdout",
     "output_type": "stream",
     "text": [
      "[[1]\n",
      " [1]\n",
      " [1]]\n",
      "[0 1 2]\n",
      "v1 + v2\n",
      "[[1 2 3]\n",
      " [1 2 3]\n",
      " [1 2 3]]\n",
      "v1 * v2\n",
      "[[0 1 2]\n",
      " [0 1 2]\n",
      " [0 1 2]]\n"
     ]
    }
   ],
   "source": [
    "v1 = np.array([1, 1, 1])[:,np.newaxis]\n",
    "v2 = np.array([0, 1, 2])\n",
    "\n",
    "print(v1)\n",
    "print(v2)\n",
    "\n",
    "vvplus = v1 + v2\n",
    "v1v2 = v1 * v2\n",
    "\n",
    "print(\"v1 + v2\")\n",
    "print(v1 + v2)\n",
    "print(\"v1 * v2\")\n",
    "print(v1 * v2)"
   ]
  },
  {
   "cell_type": "code",
   "execution_count": 36,
   "id": "86434e7e",
   "metadata": {},
   "outputs": [
    {
     "name": "stdout",
     "output_type": "stream",
     "text": [
      "[[ 1  2  3  4]\n",
      " [ 5  6  7  8]\n",
      " [ 9 10 11 12]\n",
      " [13 14 15 16]]\n",
      "m < 5\n",
      "[[ True  True  True  True]\n",
      " [False False False False]\n",
      " [False False False False]\n",
      " [False False False False]]\n",
      "m > 11\n",
      "[[False False False False]\n",
      " [False False False False]\n",
      " [False False False  True]\n",
      " [ True  True  True  True]]\n",
      "m == 14\n",
      "[[False False False False]\n",
      " [False False False False]\n",
      " [False False False False]\n",
      " [False  True False False]]\n",
      "np.equal(m, 13)\n",
      "[[False False False False]\n",
      " [False False False False]\n",
      " [False False False False]\n",
      " [ True False False False]]\n",
      "np.equal(m, 13)\n",
      "[[False False False False]\n",
      " [False False False False]\n",
      " [False False False False]\n",
      " [ True False False False]]\n",
      "np.sum(m < 12, axis = 1)\n",
      "how many values less than 12 in each row?\n",
      "[[4]\n",
      " [4]\n",
      " [3]\n",
      " [0]]\n",
      "m[m < 8]\n",
      "[1 2 3 4 5 6 7]\n"
     ]
    }
   ],
   "source": [
    "m = np.array([[1, 2, 3, 4], [5, 6, 7, 8], [9, 10, 11, 12], [13, 14, 15, 16]])\n",
    "\n",
    "print(m)\n",
    "print(\"m < 5\")\n",
    "print(m < 5)\n",
    "print(\"m > 11\")\n",
    "print(m > 11)\n",
    "print(\"m == 14\")\n",
    "print(m == 14)\n",
    "print(\"np.equal(m, 13)\")\n",
    "print(np.equal(m, 13))\n",
    "print(\"np.equal(m, 13)\")\n",
    "print(np.equal(m, 13))\n",
    "print(\"np.sum(m < 12, axis = 1)\")\n",
    "print(\"how many values less than 12 in each row?\")\n",
    "print(np.sum(m < 12, axis = 1)[:, np.newaxis])\n",
    "print(\"m[m < 8]\")\n",
    "print(m[m < 8])"
   ]
  },
  {
   "cell_type": "code",
   "execution_count": 37,
   "id": "234c4f2f",
   "metadata": {
    "scrolled": true
   },
   "outputs": [
    {
     "name": "stdout",
     "output_type": "stream",
     "text": [
      "[[ 1  2  3  4]\n",
      " [ 5  6  7  8]\n",
      " [ 9 10 11 12]\n",
      " [13 14 15 16]]\n",
      "row = np.array([0, 1, 2])\n",
      "col = np.array([0, 1, 2])\n",
      " m[row, col] \n",
      "[ 1  6 11]\n",
      "m[2:, [0, 2]]\n",
      "[[ 9 11]\n",
      " [13 15]]\n"
     ]
    }
   ],
   "source": [
    "m = np.array([[1, 2, 3, 4], [5, 6, 7, 8], [9, 10, 11, 12], [13, 14, 15, 16]])\n",
    "\n",
    "print(m)\n",
    "row = np.array([0, 1, 2])\n",
    "col = np.array([0, 1, 2])\n",
    "print(\"row = np.array([0, 1, 2])\")\n",
    "print(\"col = np.array([0, 1, 2])\")\n",
    "print(\" m[row, col] \")\n",
    "print(m[row, col])\n",
    "print(\"m[2:, [0, 2]]\")\n",
    "print(m[2:, [0, 2]])"
   ]
  },
  {
   "cell_type": "code",
   "execution_count": 39,
   "id": "e54eafd0",
   "metadata": {},
   "outputs": [
    {
     "name": "stdout",
     "output_type": "stream",
     "text": [
      "[[ 1  2]\n",
      " [ 3  4]\n",
      " [ 5  6]\n",
      " [ 7  8]\n",
      " [ 9 10]\n",
      " [11 12]\n",
      " [13 14]\n",
      " [15 16]\n",
      " [17 18]\n",
      " [19 20]]\n",
      "(10, 1, 2)\n",
      "[[[ 1  2]]\n",
      "\n",
      " [[ 3  4]]\n",
      "\n",
      " [[ 5  6]]\n",
      "\n",
      " [[ 7  8]]\n",
      "\n",
      " [[ 9 10]]\n",
      "\n",
      " [[11 12]]\n",
      "\n",
      " [[13 14]]\n",
      "\n",
      " [[15 16]]\n",
      "\n",
      " [[17 18]]\n",
      "\n",
      " [[19 20]]]\n",
      "(1, 10, 2)\n",
      "[[[ 1  2]\n",
      "  [ 3  4]\n",
      "  [ 5  6]\n",
      "  [ 7  8]\n",
      "  [ 9 10]\n",
      "  [11 12]\n",
      "  [13 14]\n",
      "  [15 16]\n",
      "  [17 18]\n",
      "  [19 20]]]\n",
      "(10, 10, 2)\n",
      "diff = (m1 - m2)**2 \n",
      "[[[  0   0]\n",
      "  [  4   4]\n",
      "  [ 16  16]\n",
      "  [ 36  36]\n",
      "  [ 64  64]\n",
      "  [100 100]\n",
      "  [144 144]\n",
      "  [196 196]\n",
      "  [256 256]\n",
      "  [324 324]]\n",
      "\n",
      " [[  4   4]\n",
      "  [  0   0]\n",
      "  [  4   4]\n",
      "  [ 16  16]\n",
      "  [ 36  36]\n",
      "  [ 64  64]\n",
      "  [100 100]\n",
      "  [144 144]\n",
      "  [196 196]\n",
      "  [256 256]]\n",
      "\n",
      " [[ 16  16]\n",
      "  [  4   4]\n",
      "  [  0   0]\n",
      "  [  4   4]\n",
      "  [ 16  16]\n",
      "  [ 36  36]\n",
      "  [ 64  64]\n",
      "  [100 100]\n",
      "  [144 144]\n",
      "  [196 196]]\n",
      "\n",
      " [[ 36  36]\n",
      "  [ 16  16]\n",
      "  [  4   4]\n",
      "  [  0   0]\n",
      "  [  4   4]\n",
      "  [ 16  16]\n",
      "  [ 36  36]\n",
      "  [ 64  64]\n",
      "  [100 100]\n",
      "  [144 144]]\n",
      "\n",
      " [[ 64  64]\n",
      "  [ 36  36]\n",
      "  [ 16  16]\n",
      "  [  4   4]\n",
      "  [  0   0]\n",
      "  [  4   4]\n",
      "  [ 16  16]\n",
      "  [ 36  36]\n",
      "  [ 64  64]\n",
      "  [100 100]]\n",
      "\n",
      " [[100 100]\n",
      "  [ 64  64]\n",
      "  [ 36  36]\n",
      "  [ 16  16]\n",
      "  [  4   4]\n",
      "  [  0   0]\n",
      "  [  4   4]\n",
      "  [ 16  16]\n",
      "  [ 36  36]\n",
      "  [ 64  64]]\n",
      "\n",
      " [[144 144]\n",
      "  [100 100]\n",
      "  [ 64  64]\n",
      "  [ 36  36]\n",
      "  [ 16  16]\n",
      "  [  4   4]\n",
      "  [  0   0]\n",
      "  [  4   4]\n",
      "  [ 16  16]\n",
      "  [ 36  36]]\n",
      "\n",
      " [[196 196]\n",
      "  [144 144]\n",
      "  [100 100]\n",
      "  [ 64  64]\n",
      "  [ 36  36]\n",
      "  [ 16  16]\n",
      "  [  4   4]\n",
      "  [  0   0]\n",
      "  [  4   4]\n",
      "  [ 16  16]]\n",
      "\n",
      " [[256 256]\n",
      "  [196 196]\n",
      "  [144 144]\n",
      "  [100 100]\n",
      "  [ 64  64]\n",
      "  [ 36  36]\n",
      "  [ 16  16]\n",
      "  [  4   4]\n",
      "  [  0   0]\n",
      "  [  4   4]]\n",
      "\n",
      " [[324 324]\n",
      "  [256 256]\n",
      "  [196 196]\n",
      "  [144 144]\n",
      "  [100 100]\n",
      "  [ 64  64]\n",
      "  [ 36  36]\n",
      "  [ 16  16]\n",
      "  [  4   4]\n",
      "  [  0   0]]]\n",
      "np.sum(diff, axis = -1)\n",
      "[[  0   8  32  72 128 200 288 392 512 648]\n",
      " [  8   0   8  32  72 128 200 288 392 512]\n",
      " [ 32   8   0   8  32  72 128 200 288 392]\n",
      " [ 72  32   8   0   8  32  72 128 200 288]\n",
      " [128  72  32   8   0   8  32  72 128 200]\n",
      " [200 128  72  32   8   0   8  32  72 128]\n",
      " [288 200 128  72  32   8   0   8  32  72]\n",
      " [392 288 200 128  72  32   8   0   8  32]\n",
      " [512 392 288 200 128  72  32   8   0   8]\n",
      " [648 512 392 288 200 128  72  32   8   0]]\n"
     ]
    }
   ],
   "source": [
    "m = np.array( [[1, 2],\n",
    "               [3, 4],\n",
    "               [5, 6],\n",
    "               [7, 8],\n",
    "               [9, 10],\n",
    "               [11, 12],\n",
    "               [13, 14],\n",
    "               [15, 16],\n",
    "               [17, 18],\n",
    "               [19, 20] ])\n",
    "\n",
    "print(m)\n",
    "m1 = m[:, np.newaxis, :]\n",
    "print(m1.shape)\n",
    "print(m1)\n",
    "\n",
    "m2 = m[np.newaxis, :,:]\n",
    "print(m2.shape)\n",
    "print(m2)\n",
    "\n",
    "diff = (m1 - m2)**2\n",
    "print(diff.shape)\n",
    "print(\"diff = (m1 - m2)**2 \")\n",
    "print(diff)\n",
    "print(\"np.sum(diff, axis = -1)\")\n",
    "print(np.sum(diff, axis = -1))"
   ]
  },
  {
   "cell_type": "code",
   "execution_count": 44,
   "id": "75a4a9bb",
   "metadata": {},
   "outputs": [
    {
     "name": "stdout",
     "output_type": "stream",
     "text": [
      "[[[ 8.69572233e-01 -1.17732819e+00 -8.28654786e-01 ...  1.30275533e-01\n",
      "    7.19827298e-01 -1.11410876e+00]\n",
      "  [ 1.10880352e+00 -5.53914491e-01 -5.80638539e-01 ... -1.88603938e-01\n",
      "   -2.05402214e+00  1.21801183e+00]\n",
      "  [ 5.81257833e-01 -2.40692698e-01 -2.04267909e+00 ... -1.45866582e+00\n",
      "   -7.96075771e-01  2.69772125e-01]\n",
      "  ...\n",
      "  [-4.48396281e-01 -6.27355249e-01 -1.60720275e-01 ... -1.57954831e-01\n",
      "    6.60431165e-01  6.34481483e-01]\n",
      "  [ 6.51947912e-01  1.29114866e-01  1.53381879e+00 ... -1.08223469e+00\n",
      "   -5.54857998e-01 -4.89432769e-01]\n",
      "  [ 5.45167098e-01 -8.58813958e-01  1.06005677e+00 ...  3.57239638e-02\n",
      "   -1.69347917e-01 -1.99336098e+00]]\n",
      "\n",
      " [[ 1.05491387e+00  2.95300295e-01 -5.64846418e-01 ...  2.59518401e+00\n",
      "    2.98917942e-01  2.76022252e-01]\n",
      "  [-2.97597405e+00  7.71399492e-01 -1.64757102e+00 ... -2.72085608e+00\n",
      "   -1.02530512e+00  1.11522472e+00]\n",
      "  [-2.71454440e+00  1.26447305e+00  6.20019112e-01 ...  4.90585846e-01\n",
      "   -2.48268381e-02 -6.41757371e-01]\n",
      "  ...\n",
      "  [-1.76462904e-01 -6.17745124e-01 -9.08267113e-01 ... -2.78709652e-01\n",
      "    3.27852205e-01 -1.16987968e-01]\n",
      "  [-1.55131141e+00 -1.21619219e+00 -9.18919164e-01 ...  1.27946649e+00\n",
      "   -1.66491400e+00  2.10720887e-01]\n",
      "  [ 9.73117332e-01  9.30689978e-01 -6.72172459e-01 ...  1.88334768e-01\n",
      "    2.65272487e+00  5.77519357e-01]]\n",
      "\n",
      " [[-1.15856532e+00 -3.93586764e-01  6.40834033e-02 ... -5.36849549e-01\n",
      "   -9.99571489e-01 -5.84770023e-01]\n",
      "  [ 3.70129672e-01  6.15421507e-01 -5.43688285e-01 ... -1.90057977e+00\n",
      "    4.55518809e-01  2.10133473e-01]\n",
      "  [ 1.31831622e+00  1.10834461e+00  3.48137191e-01 ... -4.84515312e-01\n",
      "    4.95266713e-01 -2.27730917e-01]\n",
      "  ...\n",
      "  [-7.83446058e-01 -2.24854730e-01 -4.61528550e-01 ... -2.25862637e+00\n",
      "    1.16436034e+00  1.22728682e+00]\n",
      "  [ 7.28254484e-04  5.90768207e-01 -3.67889762e-01 ... -4.41017111e-01\n",
      "   -9.72272622e-01  1.03910289e+00]\n",
      "  [ 1.95433910e-01 -6.44241684e-01 -7.81900386e-01 ...  1.07749771e-01\n",
      "    3.52197371e-01  5.76450598e-01]]\n",
      "\n",
      " ...\n",
      "\n",
      " [[ 1.02159803e+00  1.49358605e+00 -1.19711484e+00 ... -2.72906379e-01\n",
      "    1.85198706e+00 -1.45373832e+00]\n",
      "  [-9.60677290e-01 -1.25509038e-02 -1.60954361e-01 ... -1.39669732e-01\n",
      "   -5.37479951e-01  6.33928198e-01]\n",
      "  [ 6.23958999e-01 -1.36757424e+00  3.18469433e-01 ...  2.04221009e-01\n",
      "   -2.13665452e-01  1.12991173e+00]\n",
      "  ...\n",
      "  [ 2.97720795e-01  6.28741872e-01  9.11930949e-01 ... -1.75756893e-01\n",
      "    2.94124702e-01  1.68365847e+00]\n",
      "  [-1.27640761e+00  6.12574544e-01 -5.45212953e-01 ...  5.42140364e-01\n",
      "    1.07801727e-01 -6.19153804e-01]\n",
      "  [-6.82559208e-01 -2.46951701e-01 -1.10715680e+00 ...  6.70226154e-01\n",
      "   -4.41030802e-01 -8.97925638e-01]]\n",
      "\n",
      " [[-3.07125640e-02 -7.78352615e-01 -5.12973648e-01 ...  8.91336147e-01\n",
      "   -5.83865019e-01  2.38435945e-01]\n",
      "  [ 2.21434355e+00  2.21862363e-01 -1.16563263e+00 ... -1.49634404e+00\n",
      "   -1.62822772e+00 -1.68269413e+00]\n",
      "  [-9.23305897e-01  1.34796487e+00  1.91256576e-01 ...  4.71580228e-01\n",
      "   -1.34571876e+00 -6.05568365e-01]\n",
      "  ...\n",
      "  [-2.97210333e-01  9.25134710e-01  1.64491933e-01 ... -2.40133735e-01\n",
      "    1.00283465e+00 -2.53252854e-01]\n",
      "  [ 5.45827562e-01 -6.19285561e-01 -1.11541921e+00 ...  6.79247372e-01\n",
      "   -4.83764397e-01  7.32615967e-01]\n",
      "  [ 1.84512331e-01  1.02199266e+00  7.45814939e-01 ... -3.69785055e-01\n",
      "    1.03853951e+00  1.17065442e+00]]\n",
      "\n",
      " [[-9.50469438e-01  8.53769513e-01  4.36116987e-01 ... -1.39405820e+00\n",
      "    3.27801326e-01  5.07348368e-01]\n",
      "  [-2.47008273e+00  1.43633453e-01  1.22003219e+00 ...  2.62887441e+00\n",
      "    5.83021561e-01 -1.21418681e-01]\n",
      "  [-1.77150757e-01  7.17217837e-01 -9.78451921e-01 ... -1.17864416e+00\n",
      "   -1.14715685e+00  9.57390972e-01]\n",
      "  ...\n",
      "  [ 5.10082698e-01 -2.24475409e-01 -3.72660584e-01 ... -7.53530816e-01\n",
      "    4.49814955e-01 -2.77157075e-01]\n",
      "  [-1.24369240e+00 -1.03389518e-01 -2.60658958e-01 ...  1.64188707e+00\n",
      "   -1.24293490e-01 -2.77898980e-01]\n",
      "  [ 1.69675229e+00  2.44740565e+00  5.72100631e-01 ... -1.01285687e+00\n",
      "    5.13244737e-01 -3.92244372e-01]]]\n",
      "i\n",
      "[[  0   1   2   3   4   5   6   7   8   9  10  11  12  13  14  15  16  17\n",
      "   18  19  20  21  22  23  24  25  26  27  28  29  30  31  32  33  34  35\n",
      "   36  37  38  39  40  41  42  43  44  45  46  47  48  49  50  51  52  53\n",
      "   54  55  56  57  58  59  60  61  62  63  64  65  66  67  68  69  70  71\n",
      "   72  73  74  75  76  77  78  79  80  81  82  83  84  85  86  87  88  89\n",
      "   90  91  92  93  94  95  96  97  98  99 100 101 102 103 104 105 106 107\n",
      "  108 109 110 111 112 113 114 115 116 117 118 119 120 121 122 123 124 125\n",
      "  126 127 128 129 130 131 132 133 134 135 136 137 138 139 140 141 142 143\n",
      "  144 145 146 147 148 149 150 151 152 153 154 155 156 157 158 159 160 161\n",
      "  162 163 164 165 166 167 168 169 170 171 172 173 174 175 176 177 178 179\n",
      "  180 181 182 183 184 185 186 187 188 189 190 191 192 193 194 195 196 197\n",
      "  198 199 200 201 202 203 204 205 206 207 208 209 210 211 212 213 214 215\n",
      "  216 217 218 219 220 221 222 223 224 225 226 227 228 229 230 231 232 233\n",
      "  234 235 236 237 238 239 240 241 242 243 244 245 246 247 248 249 250 251\n",
      "  252 253 254 255 256 257 258 259 260 261 262 263 264 265 266 267 268 269\n",
      "  270 271 272 273 274 275 276 277 278 279 280 281 282 283 284 285 286 287\n",
      "  288 289 290 291 292 293 294 295 296 297 298 299 300 301 302 303 304 305\n",
      "  306 307 308 309 310 311 312 313 314 315 316 317 318 319 320 321 322 323\n",
      "  324 325 326 327 328 329 330 331 332 333 334 335 336 337 338 339 340 341\n",
      "  342 343 344 345 346 347 348 349 350 351 352 353 354 355 356 357 358 359\n",
      "  360 361 362 363 364 365 366 367 368 369 370 371 372 373 374 375 376 377\n",
      "  378 379 380 381 382 383 384 385 386 387 388 389 390 391 392 393 394 395\n",
      "  396 397 398 399 400 401 402 403 404 405 406 407 408 409 410 411 412 413\n",
      "  414 415 416 417 418 419 420 421 422 423 424 425 426 427 428 429 430 431\n",
      "  432 433 434 435 436 437 438 439 440 441 442 443 444 445 446 447 448 449\n",
      "  450 451 452 453 454 455 456 457 458 459 460 461 462 463 464 465 466 467\n",
      "  468 469 470 471 472 473 474 475 476 477 478 479 480 481 482 483 484 485\n",
      "  486 487 488 489 490 491 492 493 494 495 496 497 498 499 500 501 502 503\n",
      "  504 505 506 507 508 509 510 511]]\n",
      "pos\n",
      "[[ 0]\n",
      " [ 1]\n",
      " [ 2]\n",
      " [ 3]\n",
      " [ 4]\n",
      " [ 5]\n",
      " [ 6]\n",
      " [ 7]\n",
      " [ 8]\n",
      " [ 9]\n",
      " [10]\n",
      " [11]\n",
      " [12]\n",
      " [13]\n",
      " [14]\n",
      " [15]\n",
      " [16]\n",
      " [17]\n",
      " [18]\n",
      " [19]\n",
      " [20]\n",
      " [21]\n",
      " [22]\n",
      " [23]\n",
      " [24]\n",
      " [25]\n",
      " [26]\n",
      " [27]\n",
      " [28]\n",
      " [29]\n",
      " [30]\n",
      " [31]\n",
      " [32]\n",
      " [33]\n",
      " [34]\n",
      " [35]\n",
      " [36]\n",
      " [37]\n",
      " [38]\n",
      " [39]]\n",
      " angle_rates = 1 / np.power(10000, (2 * (i // 2)) 512)\n",
      "[[1.00000000e+00 1.00000000e+00 9.64661620e-01 9.64661620e-01\n",
      "  9.30572041e-01 9.30572041e-01 8.97687132e-01 8.97687132e-01\n",
      "  8.65964323e-01 8.65964323e-01 8.35362547e-01 8.35362547e-01\n",
      "  8.05842188e-01 8.05842188e-01 7.77365030e-01 7.77365030e-01\n",
      "  7.49894209e-01 7.49894209e-01 7.23394163e-01 7.23394163e-01\n",
      "  6.97830585e-01 6.97830585e-01 6.73170382e-01 6.73170382e-01\n",
      "  6.49381632e-01 6.49381632e-01 6.26433537e-01 6.26433537e-01\n",
      "  6.04296390e-01 6.04296390e-01 5.82941535e-01 5.82941535e-01\n",
      "  5.62341325e-01 5.62341325e-01 5.42469094e-01 5.42469094e-01\n",
      "  5.23299115e-01 5.23299115e-01 5.04806572e-01 5.04806572e-01\n",
      "  4.86967525e-01 4.86967525e-01 4.69758882e-01 4.69758882e-01\n",
      "  4.53158364e-01 4.53158364e-01 4.37144481e-01 4.37144481e-01\n",
      "  4.21696503e-01 4.21696503e-01 4.06794432e-01 4.06794432e-01\n",
      "  3.92418976e-01 3.92418976e-01 3.78551525e-01 3.78551525e-01\n",
      "  3.65174127e-01 3.65174127e-01 3.52269465e-01 3.52269465e-01\n",
      "  3.39820833e-01 3.39820833e-01 3.27812115e-01 3.27812115e-01\n",
      "  3.16227766e-01 3.16227766e-01 3.05052789e-01 3.05052789e-01\n",
      "  2.94272718e-01 2.94272718e-01 2.83873596e-01 2.83873596e-01\n",
      "  2.73841963e-01 2.73841963e-01 2.64164832e-01 2.64164832e-01\n",
      "  2.54829675e-01 2.54829675e-01 2.45824407e-01 2.45824407e-01\n",
      "  2.37137371e-01 2.37137371e-01 2.28757320e-01 2.28757320e-01\n",
      "  2.20673407e-01 2.20673407e-01 2.12875166e-01 2.12875166e-01\n",
      "  2.05352503e-01 2.05352503e-01 1.98095678e-01 1.98095678e-01\n",
      "  1.91095297e-01 1.91095297e-01 1.84342299e-01 1.84342299e-01\n",
      "  1.77827941e-01 1.77827941e-01 1.71543790e-01 1.71543790e-01\n",
      "  1.65481710e-01 1.65481710e-01 1.59633854e-01 1.59633854e-01\n",
      "  1.53992653e-01 1.53992653e-01 1.48550802e-01 1.48550802e-01\n",
      "  1.43301257e-01 1.43301257e-01 1.38237223e-01 1.38237223e-01\n",
      "  1.33352143e-01 1.33352143e-01 1.28639694e-01 1.28639694e-01\n",
      "  1.24093776e-01 1.24093776e-01 1.19708503e-01 1.19708503e-01\n",
      "  1.15478198e-01 1.15478198e-01 1.11397386e-01 1.11397386e-01\n",
      "  1.07460783e-01 1.07460783e-01 1.03663293e-01 1.03663293e-01\n",
      "  1.00000000e-01 1.00000000e-01 9.64661620e-02 9.64661620e-02\n",
      "  9.30572041e-02 9.30572041e-02 8.97687132e-02 8.97687132e-02\n",
      "  8.65964323e-02 8.65964323e-02 8.35362547e-02 8.35362547e-02\n",
      "  8.05842188e-02 8.05842188e-02 7.77365030e-02 7.77365030e-02\n",
      "  7.49894209e-02 7.49894209e-02 7.23394163e-02 7.23394163e-02\n",
      "  6.97830585e-02 6.97830585e-02 6.73170382e-02 6.73170382e-02\n",
      "  6.49381632e-02 6.49381632e-02 6.26433537e-02 6.26433537e-02\n",
      "  6.04296390e-02 6.04296390e-02 5.82941535e-02 5.82941535e-02\n",
      "  5.62341325e-02 5.62341325e-02 5.42469094e-02 5.42469094e-02\n",
      "  5.23299115e-02 5.23299115e-02 5.04806572e-02 5.04806572e-02\n",
      "  4.86967525e-02 4.86967525e-02 4.69758882e-02 4.69758882e-02\n",
      "  4.53158364e-02 4.53158364e-02 4.37144481e-02 4.37144481e-02\n",
      "  4.21696503e-02 4.21696503e-02 4.06794432e-02 4.06794432e-02\n",
      "  3.92418976e-02 3.92418976e-02 3.78551525e-02 3.78551525e-02\n",
      "  3.65174127e-02 3.65174127e-02 3.52269465e-02 3.52269465e-02\n",
      "  3.39820833e-02 3.39820833e-02 3.27812115e-02 3.27812115e-02\n",
      "  3.16227766e-02 3.16227766e-02 3.05052789e-02 3.05052789e-02\n",
      "  2.94272718e-02 2.94272718e-02 2.83873596e-02 2.83873596e-02\n",
      "  2.73841963e-02 2.73841963e-02 2.64164832e-02 2.64164832e-02\n",
      "  2.54829675e-02 2.54829675e-02 2.45824407e-02 2.45824407e-02\n",
      "  2.37137371e-02 2.37137371e-02 2.28757320e-02 2.28757320e-02\n",
      "  2.20673407e-02 2.20673407e-02 2.12875166e-02 2.12875166e-02\n",
      "  2.05352503e-02 2.05352503e-02 1.98095678e-02 1.98095678e-02\n",
      "  1.91095297e-02 1.91095297e-02 1.84342299e-02 1.84342299e-02\n",
      "  1.77827941e-02 1.77827941e-02 1.71543790e-02 1.71543790e-02\n",
      "  1.65481710e-02 1.65481710e-02 1.59633854e-02 1.59633854e-02\n",
      "  1.53992653e-02 1.53992653e-02 1.48550802e-02 1.48550802e-02\n",
      "  1.43301257e-02 1.43301257e-02 1.38237223e-02 1.38237223e-02\n",
      "  1.33352143e-02 1.33352143e-02 1.28639694e-02 1.28639694e-02\n",
      "  1.24093776e-02 1.24093776e-02 1.19708503e-02 1.19708503e-02\n",
      "  1.15478198e-02 1.15478198e-02 1.11397386e-02 1.11397386e-02\n",
      "  1.07460783e-02 1.07460783e-02 1.03663293e-02 1.03663293e-02\n",
      "  1.00000000e-02 1.00000000e-02 9.64661620e-03 9.64661620e-03\n",
      "  9.30572041e-03 9.30572041e-03 8.97687132e-03 8.97687132e-03\n",
      "  8.65964323e-03 8.65964323e-03 8.35362547e-03 8.35362547e-03\n",
      "  8.05842188e-03 8.05842188e-03 7.77365030e-03 7.77365030e-03\n",
      "  7.49894209e-03 7.49894209e-03 7.23394163e-03 7.23394163e-03\n",
      "  6.97830585e-03 6.97830585e-03 6.73170382e-03 6.73170382e-03\n",
      "  6.49381632e-03 6.49381632e-03 6.26433537e-03 6.26433537e-03\n",
      "  6.04296390e-03 6.04296390e-03 5.82941535e-03 5.82941535e-03\n",
      "  5.62341325e-03 5.62341325e-03 5.42469094e-03 5.42469094e-03\n",
      "  5.23299115e-03 5.23299115e-03 5.04806572e-03 5.04806572e-03\n",
      "  4.86967525e-03 4.86967525e-03 4.69758882e-03 4.69758882e-03\n",
      "  4.53158364e-03 4.53158364e-03 4.37144481e-03 4.37144481e-03\n",
      "  4.21696503e-03 4.21696503e-03 4.06794432e-03 4.06794432e-03\n",
      "  3.92418976e-03 3.92418976e-03 3.78551525e-03 3.78551525e-03\n",
      "  3.65174127e-03 3.65174127e-03 3.52269465e-03 3.52269465e-03\n",
      "  3.39820833e-03 3.39820833e-03 3.27812115e-03 3.27812115e-03\n",
      "  3.16227766e-03 3.16227766e-03 3.05052789e-03 3.05052789e-03\n",
      "  2.94272718e-03 2.94272718e-03 2.83873596e-03 2.83873596e-03\n",
      "  2.73841963e-03 2.73841963e-03 2.64164832e-03 2.64164832e-03\n",
      "  2.54829675e-03 2.54829675e-03 2.45824407e-03 2.45824407e-03\n",
      "  2.37137371e-03 2.37137371e-03 2.28757320e-03 2.28757320e-03\n",
      "  2.20673407e-03 2.20673407e-03 2.12875166e-03 2.12875166e-03\n",
      "  2.05352503e-03 2.05352503e-03 1.98095678e-03 1.98095678e-03\n",
      "  1.91095297e-03 1.91095297e-03 1.84342299e-03 1.84342299e-03\n",
      "  1.77827941e-03 1.77827941e-03 1.71543790e-03 1.71543790e-03\n",
      "  1.65481710e-03 1.65481710e-03 1.59633854e-03 1.59633854e-03\n",
      "  1.53992653e-03 1.53992653e-03 1.48550802e-03 1.48550802e-03\n",
      "  1.43301257e-03 1.43301257e-03 1.38237223e-03 1.38237223e-03\n",
      "  1.33352143e-03 1.33352143e-03 1.28639694e-03 1.28639694e-03\n",
      "  1.24093776e-03 1.24093776e-03 1.19708503e-03 1.19708503e-03\n",
      "  1.15478198e-03 1.15478198e-03 1.11397386e-03 1.11397386e-03\n",
      "  1.07460783e-03 1.07460783e-03 1.03663293e-03 1.03663293e-03\n",
      "  1.00000000e-03 1.00000000e-03 9.64661620e-04 9.64661620e-04\n",
      "  9.30572041e-04 9.30572041e-04 8.97687132e-04 8.97687132e-04\n",
      "  8.65964323e-04 8.65964323e-04 8.35362547e-04 8.35362547e-04\n",
      "  8.05842188e-04 8.05842188e-04 7.77365030e-04 7.77365030e-04\n",
      "  7.49894209e-04 7.49894209e-04 7.23394163e-04 7.23394163e-04\n",
      "  6.97830585e-04 6.97830585e-04 6.73170382e-04 6.73170382e-04\n",
      "  6.49381632e-04 6.49381632e-04 6.26433537e-04 6.26433537e-04\n",
      "  6.04296390e-04 6.04296390e-04 5.82941535e-04 5.82941535e-04\n",
      "  5.62341325e-04 5.62341325e-04 5.42469094e-04 5.42469094e-04\n",
      "  5.23299115e-04 5.23299115e-04 5.04806572e-04 5.04806572e-04\n",
      "  4.86967525e-04 4.86967525e-04 4.69758882e-04 4.69758882e-04\n",
      "  4.53158364e-04 4.53158364e-04 4.37144481e-04 4.37144481e-04\n",
      "  4.21696503e-04 4.21696503e-04 4.06794432e-04 4.06794432e-04\n",
      "  3.92418976e-04 3.92418976e-04 3.78551525e-04 3.78551525e-04\n",
      "  3.65174127e-04 3.65174127e-04 3.52269465e-04 3.52269465e-04\n",
      "  3.39820833e-04 3.39820833e-04 3.27812115e-04 3.27812115e-04\n",
      "  3.16227766e-04 3.16227766e-04 3.05052789e-04 3.05052789e-04\n",
      "  2.94272718e-04 2.94272718e-04 2.83873596e-04 2.83873596e-04\n",
      "  2.73841963e-04 2.73841963e-04 2.64164832e-04 2.64164832e-04\n",
      "  2.54829675e-04 2.54829675e-04 2.45824407e-04 2.45824407e-04\n",
      "  2.37137371e-04 2.37137371e-04 2.28757320e-04 2.28757320e-04\n",
      "  2.20673407e-04 2.20673407e-04 2.12875166e-04 2.12875166e-04\n",
      "  2.05352503e-04 2.05352503e-04 1.98095678e-04 1.98095678e-04\n",
      "  1.91095297e-04 1.91095297e-04 1.84342299e-04 1.84342299e-04\n",
      "  1.77827941e-04 1.77827941e-04 1.71543790e-04 1.71543790e-04\n",
      "  1.65481710e-04 1.65481710e-04 1.59633854e-04 1.59633854e-04\n",
      "  1.53992653e-04 1.53992653e-04 1.48550802e-04 1.48550802e-04\n",
      "  1.43301257e-04 1.43301257e-04 1.38237223e-04 1.38237223e-04\n",
      "  1.33352143e-04 1.33352143e-04 1.28639694e-04 1.28639694e-04\n",
      "  1.24093776e-04 1.24093776e-04 1.19708503e-04 1.19708503e-04\n",
      "  1.15478198e-04 1.15478198e-04 1.11397386e-04 1.11397386e-04\n",
      "  1.07460783e-04 1.07460783e-04 1.03663293e-04 1.03663293e-04]]\n",
      "angle_rads = pos * angle_rates\n",
      "[[0.00000000e+00 0.00000000e+00 0.00000000e+00 ... 0.00000000e+00\n",
      "  0.00000000e+00 0.00000000e+00]\n",
      " [1.00000000e+00 1.00000000e+00 9.64661620e-01 ... 1.07460783e-04\n",
      "  1.03663293e-04 1.03663293e-04]\n",
      " [2.00000000e+00 2.00000000e+00 1.92932324e+00 ... 2.14921566e-04\n",
      "  2.07326586e-04 2.07326586e-04]\n",
      " ...\n",
      " [3.70000000e+01 3.70000000e+01 3.56924799e+01 ... 3.97604896e-03\n",
      "  3.83554184e-03 3.83554184e-03]\n",
      " [3.80000000e+01 3.80000000e+01 3.66571416e+01 ... 4.08350975e-03\n",
      "  3.93920513e-03 3.93920513e-03]\n",
      " [3.90000000e+01 3.90000000e+01 3.76218032e+01 ... 4.19097053e-03\n",
      "  4.04286842e-03 4.04286842e-03]]\n",
      "i.shape  (1, 512)\n",
      "pos.shape  (40, 1)\n",
      "batch.shape  (64, 40, 512)\n",
      "angle_rates.shape  (1, 512)\n",
      "angle_rads.shape  (40, 512)\n",
      "sin and cos to angle_rads \n",
      "[[ 0.00000000e+00  1.00000000e+00  0.00000000e+00 ...  1.00000000e+00\n",
      "   0.00000000e+00  1.00000000e+00]\n",
      " [ 8.41470985e-01  5.40302306e-01  8.21856190e-01 ...  9.99999994e-01\n",
      "   1.03663293e-04  9.99999995e-01]\n",
      " [ 9.09297427e-01 -4.16146837e-01  9.36414739e-01 ...  9.99999977e-01\n",
      "   2.07326584e-04  9.99999979e-01]\n",
      " ...\n",
      " [-6.43538133e-01  7.65414052e-01 -9.06517604e-01 ...  9.99992096e-01\n",
      "   3.83553243e-03  9.99992644e-01]\n",
      " [ 2.96368579e-01  9.55073644e-01 -8.63399952e-01 ...  9.99991662e-01\n",
      "   3.93919494e-03  9.99992241e-01]\n",
      " [ 9.63795386e-01  2.66642932e-01 -7.72316820e-02 ...  9.99991218e-01\n",
      "   4.04285741e-03  9.99991828e-01]]\n"
     ]
    },
    {
     "data": {
      "image/png": "[encoded data removed]",
      "text/plain": [
       "<Figure size 640x480 with 2 Axes>"
      ]
     },
     "metadata": {},
     "output_type": "display_data"
    },
    {
     "name": "stdout",
     "output_type": "stream",
     "text": [
      "angle_rads[np.newaxis, ...]\n",
      "angle_rads.shape  (1, 40, 512)\n"
     ]
    }
   ],
   "source": [
    "batch = np.random.normal(0, 1, (64, 40, 512))\n",
    "print(batch)\n",
    "\n",
    "i = np.arange(512)[np.newaxis, :]\n",
    "\n",
    "print(\"i\")\n",
    "print(i)\n",
    "\n",
    "pos = np.arange(40)[:, np.newaxis]\n",
    "print(\"pos\")\n",
    "print(pos)\n",
    "\n",
    "angle_rates = 1 / np.power(10000, (2 * (i // 2)) / 512.0)\n",
    "\n",
    "print(\" angle_rates = 1 / np.power(10000, (2 * (i // 2)) 512)\")\n",
    "print(angle_rates)\n",
    "\n",
    "angle_rads = pos * angle_rates\n",
    "\n",
    "print(\"angle_rads = pos * angle_rates\")\n",
    "print(angle_rads)\n",
    "\n",
    "print(\"i.shape \", i.shape)\n",
    "print(\"pos.shape \", pos.shape)\n",
    "print(\"batch.shape \", batch.shape)\n",
    "print(\"angle_rates.shape \", angle_rates.shape)\n",
    "print(\"angle_rads.shape \", angle_rads.shape)\n",
    "\n",
    "angle_rads[:, 0::2] = np.sin(angle_rads[:, 0::2])\n",
    "angle_rads[:, 1::2] = np.cos(angle_rads[:, 1::2])\n",
    "\n",
    "print(\"sin and cos to angle_rads \")\n",
    "print(angle_rads)\n",
    "\n",
    "plt.pcolormesh(angle_rads, cmap = \"RdBu\")\n",
    "plt.xlabel('Depth')\n",
    "plt.xlim((0, 512))\n",
    "plt.ylabel('Position')\n",
    "plt.colorbar()\n",
    "plt.show()\n",
    "\n",
    "\n",
    "angle_rads = angle_rads[np.newaxis, ...]\n",
    "print(\"angle_rads[np.newaxis, ...]\")\n",
    "print(\"angle_rads.shape \", angle_rads.shape)\n",
    "\n"
   ]
  }
 ],
 "metadata": {
  "kernelspec": {
   "display_name": "Python 3 (ipykernel)",
   "language": "python",
   "name": "python3"
  },
  "language_info": {
   "codemirror_mode": {
    "name": "ipython",
    "version": 3
   },
   "file_extension": ".py",
   "mimetype": "text/x-python",
   "name": "python",
   "nbconvert_exporter": "python",
   "pygments_lexer": "ipython3",
   "version": "3.9.12"
  }
 },
 "nbformat": 4,
 "nbformat_minor": 5
}
