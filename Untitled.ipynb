{
 "cells": [
  {
   "cell_type": "code",
   "execution_count": 1,
   "id": "6a6f30d3",
   "metadata": {},
   "outputs": [],
   "source": [
    "import numpy as np\n",
    "import matplotlib.pyplot as plt"
   ]
  },
  {
   "cell_type": "code",
   "execution_count": 2,
   "id": "4fc0929b",
   "metadata": {},
   "outputs": [
    {
     "name": "stdout",
     "output_type": "stream",
     "text": [
      "[4 5 2 6 8]\n"
     ]
    }
   ],
   "source": [
    "a = np.array([4, 5, 2, 6, 8])\n",
    "\n",
    "print(a)"
   ]
  },
  {
   "cell_type": "code",
   "execution_count": 3,
   "id": "ec47c144",
   "metadata": {},
   "outputs": [
    {
     "name": "stdout",
     "output_type": "stream",
     "text": [
      "[1. 3. 2. 5.]\n"
     ]
    }
   ],
   "source": [
    "a = np.array([1, 3, 2, 5], dtype = 'float32')\n",
    "\n",
    "print(a)"
   ]
  },
  {
   "cell_type": "code",
   "execution_count": 4,
   "id": "10fa73f1",
   "metadata": {},
   "outputs": [
    {
     "name": "stdout",
     "output_type": "stream",
     "text": [
      "[list([1, 2, 3]) list([4, 4, 5]) list([6, 2])]\n"
     ]
    },
    {
     "name": "stderr",
     "output_type": "stream",
     "text": [
      "C:\\Users\\Henry\\AppData\\Local\\Temp\\ipykernel_22312\\1424363652.py:3: VisibleDeprecationWarning: Creating an ndarray from ragged nested sequences (which is a list-or-tuple of lists-or-tuples-or ndarrays with different lengths or shapes) is deprecated. If you meant to do this, you must specify 'dtype=object' when creating the ndarray.\n",
      "  b = np.array(list_of_lists)\n"
     ]
    }
   ],
   "source": [
    "list_of_lists = [[1, 2 , 3], [4, 4, 5], [6, 2]]\n",
    "\n",
    "b = np.array(list_of_lists)\n",
    "\n",
    "print(b)"
   ]
  },
  {
   "cell_type": "code",
   "execution_count": 5,
   "id": "d73509be",
   "metadata": {},
   "outputs": [
    {
     "name": "stdout",
     "output_type": "stream",
     "text": [
      "[[ 1  2  3]\n",
      " [ 4  4  5]\n",
      " [ 6  2 11]]\n"
     ]
    }
   ],
   "source": [
    "list_of_lists = [[1, 2 , 3], [4, 4, 5], [6, 2, 11]]\n",
    "\n",
    "b = np.array(list_of_lists)\n",
    "\n",
    "print(b)"
   ]
  },
  {
   "cell_type": "code",
   "execution_count": 6,
   "id": "0efb12f8",
   "metadata": {},
   "outputs": [
    {
     "name": "stdout",
     "output_type": "stream",
     "text": [
      "[0 0 0 0 0 0 0 0 0 0]\n"
     ]
    }
   ],
   "source": [
    "b = np.zeros(10, dtype = int)\n",
    "\n",
    "print(b)"
   ]
  },
  {
   "cell_type": "code",
   "execution_count": 7,
   "id": "d0fd7ca4",
   "metadata": {},
   "outputs": [
    {
     "name": "stdout",
     "output_type": "stream",
     "text": [
      "[[1. 1. 1. 1. 1. 1.]\n",
      " [1. 1. 1. 1. 1. 1.]\n",
      " [1. 1. 1. 1. 1. 1.]\n",
      " [1. 1. 1. 1. 1. 1.]]\n"
     ]
    }
   ],
   "source": [
    "b = np.ones((4, 6), dtype = float)\n",
    "\n",
    "print(b)"
   ]
  },
  {
   "cell_type": "code",
   "execution_count": 8,
   "id": "5e263fb5",
   "metadata": {},
   "outputs": [
    {
     "name": "stdout",
     "output_type": "stream",
     "text": [
      "[[42 42 42]\n",
      " [42 42 42]\n",
      " [42 42 42]]\n"
     ]
    }
   ],
   "source": [
    "b = np.full ((3, 3), 42)\n",
    "\n",
    "print(b)"
   ]
  },
  {
   "cell_type": "code",
   "execution_count": 9,
   "id": "bf7b29a9",
   "metadata": {},
   "outputs": [
    {
     "name": "stdout",
     "output_type": "stream",
     "text": [
      "[ 1  4  7 10 13 16 19 22 25 28]\n"
     ]
    }
   ],
   "source": [
    "b = np.arange(1, 30, 3)\n",
    "\n",
    "print(b)"
   ]
  },
  {
   "cell_type": "code",
   "execution_count": 10,
   "id": "cbdd604b",
   "metadata": {},
   "outputs": [
    {
     "name": "stdout",
     "output_type": "stream",
     "text": [
      "[0.         0.05263158 0.10526316 0.15789474 0.21052632 0.26315789\n",
      " 0.31578947 0.36842105 0.42105263 0.47368421 0.52631579 0.57894737\n",
      " 0.63157895 0.68421053 0.73684211 0.78947368 0.84210526 0.89473684\n",
      " 0.94736842 1.        ]\n"
     ]
    }
   ],
   "source": [
    "b = np.linspace(0, 1, 20)\n",
    "\n",
    "print(b)"
   ]
  },
  {
   "cell_type": "code",
   "execution_count": 11,
   "id": "e65cd247",
   "metadata": {},
   "outputs": [
    {
     "name": "stdout",
     "output_type": "stream",
     "text": [
      "[[-0.35145386  0.93401671  0.25256928  1.5698615 ]\n",
      " [ 0.22833097  1.45368017  0.44704094  0.27635358]\n",
      " [ 0.34399773 -0.25938248  0.64757873  0.48117976]\n",
      " [-0.46112671  0.59928637 -1.65105974  0.25076576]]\n"
     ]
    }
   ],
   "source": [
    "b = np.random.normal(0, 1, (4,4))\n",
    "\n",
    "print(b)"
   ]
  },
  {
   "cell_type": "code",
   "execution_count": 12,
   "id": "3295df04",
   "metadata": {},
   "outputs": [
    {
     "name": "stdout",
     "output_type": "stream",
     "text": [
      "[[1. 0. 0. 0. 0.]\n",
      " [0. 1. 0. 0. 0.]\n",
      " [0. 0. 1. 0. 0.]\n",
      " [0. 0. 0. 1. 0.]\n",
      " [0. 0. 0. 0. 1.]]\n"
     ]
    }
   ],
   "source": [
    "b = np.eye(5)\n",
    "print(b)"
   ]
  },
  {
   "cell_type": "code",
   "execution_count": 13,
   "id": "69350b9d",
   "metadata": {},
   "outputs": [
    {
     "name": "stdout",
     "output_type": "stream",
     "text": [
      "[[ 6 14 11  1]\n",
      " [18  5 12 15]\n",
      " [ 6  5  1 14]]\n",
      "[[[ 2  5  6  4  6 10]\n",
      "  [12  1 12  4  3  2]\n",
      "  [ 6  9  4 16 19  2]\n",
      "  [ 9  1  1 12  1  9]]\n",
      "\n",
      " [[13  7 10 10  6 12]\n",
      "  [14  3  2 10  1 15]\n",
      "  [ 8  2  9 15  0  6]\n",
      "  [16  3 14 14 11  3]]]\n",
      "b2 dims  2\n",
      "b3 shape  (2, 4, 6)\n",
      "b2 size  12\n",
      "data type of b3  int32\n"
     ]
    }
   ],
   "source": [
    "b1 = np.random.randint(20, size = 6)\n",
    "b2 = np.random.randint(20, size = (3,4))\n",
    "b3 = np.random.randint(20, size = (2,4,6))\n",
    "\n",
    "print(b2)\n",
    "print(b3)\n",
    "print(\"b2 dims \", b2.ndim)\n",
    "print(\"b3 shape \", b3.shape)\n",
    "print(\"b2 size \", b2.size)\n",
    "print(\"data type of b3 \", b3.dtype)\n"
   ]
  },
  {
   "cell_type": "code",
   "execution_count": 14,
   "id": "71621575",
   "metadata": {},
   "outputs": [
    {
     "name": "stdout",
     "output_type": "stream",
     "text": [
      "[1. 3. 2. 5.]\n",
      "first  1.0\n",
      "third  2.0\n",
      "last  5.0\n",
      "before last  2.0\n"
     ]
    }
   ],
   "source": [
    "a = np.array([1, 3, 2, 5], dtype = \"float32\")\n",
    "print(a)\n",
    "print(\"first \", a[0])\n",
    "print(\"third \", a[2])\n",
    "print(\"last \", a[-1])\n",
    "print(\"before last \", a[-2])"
   ]
  },
  {
   "cell_type": "code",
   "execution_count": 15,
   "id": "fccccb20",
   "metadata": {
    "scrolled": true
   },
   "outputs": [
    {
     "name": "stdout",
     "output_type": "stream",
     "text": [
      "[[ 1  2  3  4]\n",
      " [ 5  6  7  8]\n",
      " [ 9 10 11 12]]\n",
      "first  1\n",
      "last  12\n"
     ]
    }
   ],
   "source": [
    "a = np.array ([[1, 2, 3, 4], [5, 6, 7, 8], [9, 10, 11, 12]])\n",
    "\n",
    "print(a)\n",
    "print(\"first \", a[0,0])\n",
    "print(\"last \", a[2,-1])"
   ]
  },
  {
   "cell_type": "code",
   "execution_count": 16,
   "id": "672934eb",
   "metadata": {},
   "outputs": [
    {
     "name": "stdout",
     "output_type": "stream",
     "text": [
      "[ 0  1  2  3  4  5  6  7  8  9 10 11 12 13 14]\n",
      "first 4 elements  [0 1 2 3]\n",
      "all after 3  [ 3  4  5  6  7  8  9 10 11 12 13 14]\n",
      "even indeces  [ 0  2  4  6  8 10 12 14]\n",
      "uneven indeces  [ 1  3  5  7  9 11 13]\n",
      "reverse  [14 13 12 11 10  9  8  7  6  5  4  3  2  1  0]\n"
     ]
    }
   ],
   "source": [
    "x = np.arange(15)\n",
    "\n",
    "print(x)\n",
    "print(\"first 4 elements \", x[:4])\n",
    "print(\"all after 3 \", x[3:])\n",
    "print(\"even indeces \", x[::2])\n",
    "print(\"uneven indeces \", x[1::2])\n",
    "print(\"reverse \", x[::-1])"
   ]
  },
  {
   "cell_type": "code",
   "execution_count": 17,
   "id": "b48a4495",
   "metadata": {
    "scrolled": true
   },
   "outputs": [
    {
     "name": "stdout",
     "output_type": "stream",
     "text": [
      "[[ 1  2  3  4]\n",
      " [ 5  6  7  8]\n",
      " [ 9 10 11 12]]\n",
      "[[1 2]\n",
      " [5 6]]\n"
     ]
    }
   ],
   "source": [
    "a = np.array ([[1, 2, 3, 4], [5, 6, 7, 8], [9, 10, 11, 12]])\n",
    "\n",
    "print(a)\n",
    "print(a[:2,:2])"
   ]
  },
  {
   "cell_type": "code",
   "execution_count": 18,
   "id": "5caa944e",
   "metadata": {},
   "outputs": [
    {
     "name": "stdout",
     "output_type": "stream",
     "text": [
      "[[ 1  2  3  4]\n",
      " [ 5  6  7  8]\n",
      " [ 9 10 11 12]]\n",
      "a[:-1, :-1]\n",
      "[[1 2 3]\n",
      " [5 6 7]]\n"
     ]
    }
   ],
   "source": [
    "a = np.array ([[1, 2, 3, 4], [5, 6, 7, 8], [9, 10, 11, 12]])\n",
    "\n",
    "print(a)\n",
    "print(\"a[:-1, :-1]\")\n",
    "print(a[:-1,:-1])"
   ]
  },
  {
   "cell_type": "code",
   "execution_count": 19,
   "id": "89b71473",
   "metadata": {},
   "outputs": [
    {
     "name": "stdout",
     "output_type": "stream",
     "text": [
      "[[ 1  2  3  4]\n",
      " [ 5  6  7  8]\n",
      " [ 9 10 11 12]]\n",
      "a[:-1,:-2]\n",
      "[[1 2]\n",
      " [5 6]]\n"
     ]
    }
   ],
   "source": [
    "a = np.array ([[1, 2, 3, 4], [5, 6, 7, 8], [9, 10, 11, 12]])\n",
    "\n",
    "print(a)\n",
    "print(\"a[:-1,:-2]\")\n",
    "print(a[:-1,:-2])"
   ]
  },
  {
   "cell_type": "code",
   "execution_count": 20,
   "id": "570c5b3a",
   "metadata": {},
   "outputs": [
    {
     "name": "stdout",
     "output_type": "stream",
     "text": [
      "[ 0  1  2  3  4  5  6  7  8  9 10 11 12 13 14]\n",
      "shift right  [ 0  1  2  3  4  5  6  7  8  9 10 11 12 13]\n",
      "shift left  [ 1  2  3  4  5  6  7  8  9 10 11 12 13 14]\n"
     ]
    }
   ],
   "source": [
    "x = np.arange(15)\n",
    "print(x)\n",
    "print(\"shift right \", x[:-1])\n",
    "print(\"shift left \", x[1:])"
   ]
  },
  {
   "cell_type": "code",
   "execution_count": 21,
   "id": "064b1ef6",
   "metadata": {
    "scrolled": true
   },
   "outputs": [
    {
     "name": "stdout",
     "output_type": "stream",
     "text": [
      "[[ 1  2  3  4]\n",
      " [ 5  6  7  8]\n",
      " [ 9 10 11 12]]\n",
      "column 1 \n",
      "[ 2  6 10]\n"
     ]
    }
   ],
   "source": [
    "a = np.array ([[1, 2, 3, 4], [5, 6, 7, 8], [9, 10, 11, 12]])\n",
    "\n",
    "print(a)\n",
    "print(\"column 1 \")\n",
    "print(a[:,1])"
   ]
  },
  {
   "cell_type": "code",
   "execution_count": 22,
   "id": "2f452231",
   "metadata": {},
   "outputs": [
    {
     "name": "stdout",
     "output_type": "stream",
     "text": [
      "[[ 1  2  3  4]\n",
      " [ 5  6  7  8]\n",
      " [ 9 10 11 12]]\n",
      "row 1 \n",
      "[5 6 7 8]\n"
     ]
    }
   ],
   "source": [
    "a = np.array ([[1, 2, 3, 4], [5, 6, 7, 8], [9, 10, 11, 12]])\n",
    "\n",
    "print(a)\n",
    "print(\"row 1 \")\n",
    "print(a[1,:])"
   ]
  },
  {
   "cell_type": "code",
   "execution_count": 23,
   "id": "224260a2",
   "metadata": {},
   "outputs": [
    {
     "name": "stdout",
     "output_type": "stream",
     "text": [
      "[[ 1  2  3  4]\n",
      " [ 5  6  7  8]\n",
      " [ 9 10 11 12]]\n",
      "[[1 2]\n",
      " [5 6]]\n",
      "[[42  2  3  4]\n",
      " [ 5  6  7  8]\n",
      " [ 9 10 11 12]]\n",
      "[[42  2  3  4]\n",
      " [ 5  6  7  8]\n",
      " [ 9 10 11 12]]\n"
     ]
    }
   ],
   "source": [
    "a = np.array ([[1, 2, 3, 4], [5, 6, 7, 8], [9, 10, 11, 12]])\n",
    "\n",
    "new_a = a[:2, :2]\n",
    "print(a)\n",
    "print(new_a)\n",
    "new_a[0,0] = 42\n",
    "print(a)\n",
    "new_a2 = a[:2, :2].copy()\n",
    "new_a2[0,0] = 17\n",
    "print(a)\n"
   ]
  },
  {
   "cell_type": "code",
   "execution_count": 24,
   "id": "d38f0524",
   "metadata": {},
   "outputs": [
    {
     "name": "stdout",
     "output_type": "stream",
     "text": [
      "[1 2 3 4 5 6 7 8 9]\n",
      "[[1 2 3]\n",
      " [4 5 6]\n",
      " [7 8 9]]\n"
     ]
    }
   ],
   "source": [
    "a = np.arange(1,10)\n",
    "\n",
    "b = a.reshape(3,3)\n",
    "\n",
    "print(a)\n",
    "print(b)"
   ]
  },
  {
   "cell_type": "code",
   "execution_count": 25,
   "id": "c958e79e",
   "metadata": {
    "scrolled": true
   },
   "outputs": [
    {
     "name": "stdout",
     "output_type": "stream",
     "text": [
      "reshape as row vector with reshape  [[1 2 3 4 5]]\n",
      "reshape as row vector with newaxis  [[5 5 5 5 5]]\n",
      "reshape as column vector with newaxis \n",
      "[[5]\n",
      " [5]\n",
      " [5]\n",
      " [5]\n",
      " [5]]\n",
      " reshape matrix m[:, npnewaxis, np.newaxis, :] with newaxis \n",
      "[[[[ 1  2  3  4]]]\n",
      "\n",
      "\n",
      " [[[ 5  6  7  8]]]\n",
      "\n",
      "\n",
      " [[[ 9 10 11 12]]]]\n"
     ]
    }
   ],
   "source": [
    "v = np.array([1, 2, 3, 4, 5,])\n",
    "\n",
    "v1 = np.array([5, 5, 5, 5, 5])\n",
    "\n",
    "m = np.array([[1, 2, 3, 4], [5, 6, 7, 8], [9, 10, 11, 12]])\n",
    "\n",
    "print(\"reshape as row vector with reshape \", v.reshape( (1, 5)))\n",
    "print(\"reshape as row vector with newaxis \", v1[np.newaxis, :])\n",
    "print(\"reshape as column vector with newaxis \")\n",
    "print(v1[:, np.newaxis])\n",
    "print(\" reshape matrix m[:, npnewaxis, np.newaxis, :] with newaxis \")\n",
    "print(m[:, np.newaxis, np.newaxis, :])"
   ]
  },
  {
   "cell_type": "code",
   "execution_count": 26,
   "id": "710ab24e",
   "metadata": {},
   "outputs": [
    {
     "name": "stdout",
     "output_type": "stream",
     "text": [
      "[1 2 3 4]\n",
      "[5 6 7 8]\n",
      "[ 9 10 11]\n",
      "concatenate a with b  [1 2 3 4 5 6 7 8]\n",
      "concatenate a with b with c  [ 1  2  3  4  5  6  7  8  9 10 11]\n"
     ]
    }
   ],
   "source": [
    "a = np.array([1, 2, 3, 4])\n",
    "b = np.array([5, 6, 7, 8])\n",
    "c = np.array([9, 10, 11])\n",
    "ab = np.concatenate([a, b])\n",
    "abc = np.concatenate([a, b, c])\n",
    "\n",
    "print(a)\n",
    "print(b)\n",
    "print(c)\n",
    "print(\"concatenate a with b \", ab)\n",
    "print(\"concatenate a with b with c \", abc)\n"
   ]
  },
  {
   "cell_type": "code",
   "execution_count": 29,
   "id": "5de7757a",
   "metadata": {},
   "outputs": [
    {
     "name": "stdout",
     "output_type": "stream",
     "text": [
      "[[1 2 3]\n",
      " [4 5 6]\n",
      " [7 8 9]]\n",
      "[[10 11 12]\n",
      " [13 14 14]\n",
      " [16 17 18]]\n",
      "m1, m2 concat axis 0\n",
      "[[ 1  2  3]\n",
      " [ 4  5  6]\n",
      " [ 7  8  9]\n",
      " [10 11 12]\n",
      " [13 14 14]\n",
      " [16 17 18]]\n"
     ]
    }
   ],
   "source": [
    "m1 = np.array([[1, 2, 3], [4, 5, 6], [7, 8, 9]])\n",
    "m2 = np.array([[10, 11, 12], [13, 14, 14], [16, 17, 18]])\n",
    "\n",
    "print(m1)\n",
    "print(m2)\n",
    "m1_m2_concat = np.concatenate([m1, m2], axis=0)\n",
    "print(\"m1, m2 concat axis 0\")\n",
    "print(m1_m2_concat)"
   ]
  },
  {
   "cell_type": "code",
   "execution_count": 30,
   "id": "1637e13b",
   "metadata": {},
   "outputs": [
    {
     "name": "stdout",
     "output_type": "stream",
     "text": [
      "[[1 2 3]\n",
      " [4 5 6]\n",
      " [7 8 9]]\n",
      "[[10 11 12]\n",
      " [13 14 14]\n",
      " [16 17 18]]\n",
      " vstack \n",
      "[[ 1  2  3]\n",
      " [ 4  5  6]\n",
      " [ 7  8  9]\n",
      " [10 11 12]\n",
      " [13 14 14]\n",
      " [16 17 18]]\n",
      " hstack \n",
      "[[ 1  2  3 10 11 12]\n",
      " [ 4  5  6 13 14 14]\n",
      " [ 7  8  9 16 17 18]]\n"
     ]
    }
   ],
   "source": [
    "m1 = np.array([[1, 2, 3], [4, 5, 6], [7, 8, 9]])\n",
    "m2 = np.array([[10, 11, 12], [13, 14, 14], [16, 17, 18]])\n",
    "\n",
    "print(m1)\n",
    "print(m2)\n",
    "m1_m2_concat = np.vstack([m1, m2])\n",
    "print(\" vstack \")\n",
    "print(m1_m2_concat)\n",
    "\n",
    "m1_m2_concat2 = np.hstack([m1, m2])\n",
    "print(\" hstack \")\n",
    "print(m1_m2_concat2)"
   ]
  },
  {
   "cell_type": "code",
   "execution_count": null,
   "id": "768932fe",
   "metadata": {},
   "outputs": [],
   "source": [
    "#line 795"
   ]
  }
 ],
 "metadata": {
  "kernelspec": {
   "display_name": "Python 3 (ipykernel)",
   "language": "python",
   "name": "python3"
  },
  "language_info": {
   "codemirror_mode": {
    "name": "ipython",
    "version": 3
   },
   "file_extension": ".py",
   "mimetype": "text/x-python",
   "name": "python",
   "nbconvert_exporter": "python",
   "pygments_lexer": "ipython3",
   "version": "3.9.12"
  }
 },
 "nbformat": 4,
 "nbformat_minor": 5
}
